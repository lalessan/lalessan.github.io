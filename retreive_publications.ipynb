{
 "cells": [
  {
   "cell_type": "code",
   "execution_count": 287,
   "id": "4bb71aab",
   "metadata": {},
   "outputs": [],
   "source": [
    "##JOURNAL ARTICLES"
   ]
  },
  {
   "cell_type": "code",
   "execution_count": 4,
   "id": "d35dcebb",
   "metadata": {},
   "outputs": [],
   "source": [
    "from habanero import Crossref\n",
    "cr = Crossref()"
   ]
  },
  {
   "cell_type": "code",
   "execution_count": 26,
   "id": "327ddf8f",
   "metadata": {},
   "outputs": [],
   "source": [
    "results = cr.works(query_author = \"Laura Alessandretti\",limit=1000)"
   ]
  },
  {
   "cell_type": "code",
   "execution_count": 264,
   "id": "d7d8930f",
   "metadata": {},
   "outputs": [],
   "source": [
    "papers = ((results[\"message\"])[\"items\"])\n",
    "\n",
    "def am_i_in(paper):\n",
    "    authors = paper[\"author\"]\n",
    "    ismine = (\"Laura\",\"Alessandretti\") in [(a.get(\"given\",None), a.get(\"family\",None)) for a in authors]\n",
    "    return ismine\n",
    "my_papers = [paper for paper in papers if am_i_in(paper) ]\n",
    "my_papers = sorted(my_papers, key = lambda paper : paper[\"published\"][\"date-parts\"][0],reverse = True)\n",
    "my_papers = [i for i in my_papers if (i[\"container-title\"][0]!=\"SSRN Electronic Journal\") and (\"Author Correction:\" not in i[\"title\"][0])]\n"
   ]
  },
  {
   "cell_type": "code",
   "execution_count": 439,
   "id": "17b81469",
   "metadata": {},
   "outputs": [],
   "source": [
    "def format_author(a):\n",
    "    fn = a.get(\"family\",None)\n",
    "    n = a.get(\"given\",None)[:1]\n",
    "    if fn==\"Alessandretti\":\n",
    "        return \"**\"+\" \".join((fn,n))+\"**\"\n",
    "    else:\n",
    "        return \" \".join((fn,n))\n",
    "\n",
    "def format_paper(paper):\n",
    "    authors = paper[\"author\"]\n",
    "    authors = \", \".join([format_author(a) for a in authors])\n",
    "    title = paper[\"title\"][0]\n",
    "    journal = paper[\"container-title\"][0]\n",
    "    link = paper.get(\"link\",[{\"URL\":\" \"}])[0][\"URL\"]\n",
    "    doi = paper[\"DOI\"]\n",
    "    volume = paper.get(\"volume\", \"\")\n",
    "    issue = paper.get(\"issue\", \"\")\n",
    "    page = paper.get(\"page\",\"\")\n",
    "    article_number = paper.get(\"article-number\",\"\")\n",
    "    year = paper[\"published\"][\"date-parts\"][0][0]\n",
    "    l1 =  authors + \" ({})\".format(year)\n",
    "    l2 = \"*{}*\".format(title)\n",
    "    l3 = \"[{}]({})\".format(journal, link)+\" {}\".format(volume)+\"({})\".format(issue)+\", {}{}\".format(page,article_number)\n",
    "    l4 = \"[![doi](icons16/doi-icon.png)](https://doi.org{})\".format(doi)\n",
    "    print(l1+\"    \")\n",
    "    print(l2+\"    \")\n",
    "    print(l3+\"    \")\n",
    "    #print(l4+\"    \")\n",
    "    print()"
   ]
  },
  {
   "cell_type": "code",
   "execution_count": 440,
   "id": "f245c0da",
   "metadata": {},
   "outputs": [
    {
     "name": "stdout",
     "output_type": "stream",
     "text": [
      "Andriollo T, Kouznetsova V, **Alessandretti L** (2022)    \n",
      "*Network approach for the analysis of the irreversible deformation of solids with soft heterogeneities*    \n",
      "[Physical Review Materials](https://link.aps.org/article/10.1103/PhysRevMaterials.6.L110601) 6(11), L110601    \n",
      "\n",
      "Juul J, **Alessandretti L**, Dammeyer J, Zettler I, Lehmann S, Mathiesen J (2022)    \n",
      "*Group-specific behavior change following terror attacks*    \n",
      "[Journal of Computational Social Science](https://link.springer.com/content/pdf/10.1007/s42001-022-00188-2.pdf) (),     \n",
      "\n",
      "Mekacher A, Bracci A, Nadini M, Martino M, **Alessandretti L**, Aiello L, Baronchelli A (2022)    \n",
      "*Heterogeneous rarity patterns drive price dynamics in NFT collections*    \n",
      "[Scientific Reports](https://www.nature.com/articles/s41598-022-17922-5.pdf) 12(1), 13890    \n",
      "\n",
      "**Alessandretti L**, Natera Orozco L, Saberi M, Szell M, Battiston F (2022)    \n",
      "*Multimodal urban mobility and multilayer transport networks*    \n",
      "[Environment and Planning B: Urban Analytics and City Science](http://journals.sagepub.com/doi/pdf/10.1177/23998083221108190) (), 239980832211081    \n",
      "\n",
      "Lucchini L, Aiello L, **Alessandretti L**, De Francisci Morales G, Starnini M, Baronchelli A (2022)    \n",
      "*From Reddit to Wall Street: the role of committed minorities in financial collective action*    \n",
      "[Royal Society Open Science](https://royalsocietypublishing.org/doi/pdf/10.1098/rsos.211488) 9(4),     \n",
      "\n",
      "**Alessandretti L** (2021)    \n",
      "*What human mobility data tell us about COVID-19 spread*    \n",
      "[Nature Reviews Physics](https://www.nature.com/articles/s42254-021-00407-1.pdf) 4(1), 12-13    \n",
      "\n",
      "Edsberg Møllgaard P, Lehmann S, **Alessandretti L** (2021)    \n",
      "*Understanding components of mobility during the COVID-19 pandemic*    \n",
      "[Philosophical Transactions of the Royal Society A: Mathematical, Physical and Engineering Sciences](https://royalsocietypublishing.org/doi/pdf/10.1098/rsta.2021.0118) 380(2214),     \n",
      "\n",
      "Nadini M, **Alessandretti L**, Di Giacinto F, Martino M, Aiello L, Baronchelli A (2021)    \n",
      "*Mapping the NFT revolution: market trends, trade networks, and visual features*    \n",
      "[Scientific Reports](https://www.nature.com/articles/s41598-021-00053-8.pdf) 11(1), 20902    \n",
      "\n",
      "**Alessandretti L** (2021)    \n",
      "*A new computational model for human navigation*    \n",
      "[Nature Computational Science](https://www.nature.com/articles/s43588-021-00118-8.pdf) 1(10), 642-643    \n",
      "\n",
      "**Alessandretti L**, Lehmann S (2021)    \n",
      "*Trip frequency is key ingredient in new law of human travel*    \n",
      "[Nature](http://www.nature.com/articles/d41586-021-01355-7.pdf) 593(7860), 515-516    \n",
      "\n",
      "Sekara V, **Alessandretti L**, Mones E, Jonsson H (2021)    \n",
      "*Temporal and cultural limits of privacy in smartphone app usage*    \n",
      "[Scientific Reports](https://www.nature.com/articles/s41598-021-82294-1.pdf) 11(1), 3861    \n",
      "\n",
      "Lucchini L, **Alessandretti L**, Lepri B, Gallo A, Baronchelli A (2020)    \n",
      "*From code to market: Network of developers and correlated returns of cryptocurrencies*    \n",
      "[Science Advances](https://syndication.highwire.org/content/doi/10.1126/sciadv.abd2204) 6(51),     \n",
      "\n",
      "**Alessandretti L**, Aslak U, Lehmann S (2020)    \n",
      "*The scales of human mobility*    \n",
      "[Nature](http://www.nature.com/articles/s41586-020-2909-1.pdf) 587(7834), 402-407    \n",
      "\n",
      "ElBahrawy A, **Alessandretti L**, Rusnac L, Goldsmith D, Teytelboym A, Baronchelli A (2020)    \n",
      "*Collective dynamics of dark web marketplaces*    \n",
      "[Scientific Reports](https://www.nature.com/articles/s41598-020-74416-y.pdf) 10(1), 18827    \n",
      "\n",
      "ElBahrawy A, **Alessandretti L**, Baronchelli A (2019)    \n",
      "*Wikipedia and Cryptocurrencies: Interplay Between Collective Attention and Market Performance*    \n",
      "[Frontiers in Blockchain](https://www.frontiersin.org/article/10.3389/fbloc.2019.00012/full) 2(),     \n",
      "\n",
      "**Alessandretti L**, ElBahrawy A, Aiello L, Baronchelli A (2018)    \n",
      "*Anticipating Cryptocurrency Prices Using Machine Learning*    \n",
      "[Complexity](http://downloads.hindawi.com/journals/complexity/2018/8983590.pdf) 2018(), 1-16    \n",
      "\n",
      "**Alessandretti L**, Lehmann S, Baronchelli A (2018)    \n",
      "*Understanding the interplay between social and spatial behaviour*    \n",
      "[EPJ Data Science](http://link.springer.com/content/pdf/10.1140/epjds/s13688-018-0164-6.pdf) 7(1), 36    \n",
      "\n",
      "**Alessandretti L**, Sapiezynski P, Sekara V, Lehmann S, Baronchelli A (2018)    \n",
      "*Evidence for a conserved quantity in human mobility*    \n",
      "[Nature Human Behaviour](http://www.nature.com/articles/s41562-018-0364-x) 2(7), 485-491    \n",
      "\n",
      "ElBahrawy A, **Alessandretti L**, Kandler A, Pastor-Satorras R, Baronchelli A (2017)    \n",
      "*Evolutionary dynamics of the cryptocurrency market*    \n",
      "[Royal Society Open Science](https://royalsocietypublishing.org/doi/pdf/10.1098/rsos.170623) 4(11), 170623    \n",
      "\n",
      "**Alessandretti L**, Sun K, Baronchelli A, Perra N (2017)    \n",
      "*Random walks on activity-driven networks with attractiveness*    \n",
      "[Physical Review E](http://link.aps.org/article/10.1103/PhysRevE.95.052318) 95(5), 052318    \n",
      "\n",
      "**Alessandretti L**, Sapiezynski P, Lehmann S, Baronchelli A (2017)    \n",
      "*Multi-scale spatio-temporal analysis of human mobility*    \n",
      "[PLOS ONE](http://dx.plos.org/10.1371/journal.pone.0171686) 12(2), e0171686    \n",
      "\n",
      "**Alessandretti L**, Karsai M, Gauvin L (2016)    \n",
      "*User-based representation of time-resolved multimodal public transportation networks*    \n",
      "[Royal Society Open Science](https://royalsocietypublishing.org/doi/pdf/10.1098/rsos.160156) 3(7), 160156    \n",
      "\n"
     ]
    }
   ],
   "source": [
    "for i in my_papers:\n",
    "    format_paper(i)"
   ]
  },
  {
   "cell_type": "code",
   "execution_count": 430,
   "id": "5b933871",
   "metadata": {},
   "outputs": [],
   "source": [
    "##ARXIV\n",
    "import arxiv\n",
    "from difflib import SequenceMatcher\n",
    "import itertools\n",
    "import numpy as np\n",
    "\n",
    "def similar(a, b):\n",
    "    return SequenceMatcher(None, a, b).ratio()\n",
    "\n",
    "def format_author_arxiv(a):\n",
    "    \n",
    "    if \"Alessandretti\" in a:\n",
    "        return \"**\"+a+\"**\"\n",
    "    else:\n",
    "        return a\n",
    "    \n",
    "def format_arxiv(paper):\n",
    "    authors = paper.authors\n",
    "    authors = \", \".join([format_author_arxiv(\" \".join([i[0] for i in a.name.split(\" \")][:1]+a.name.split(\" \")[1:])) for a in authors])\n",
    "    title = paper.title\n",
    "    journal = \"Arxiv Preprint\"\n",
    "    link = paper.entry_id\n",
    "    volume = paper.get_short_id()\n",
    "    year = a.published.year\n",
    "    l1 =  authors + \" ({})\".format(year)\n",
    "    l2 = \"*{}*\".format(title)\n",
    "    l3 = \"[{}]({})\".format(journal, link)+\" {}\".format(volume)\n",
    "    print(l1+\"    \")\n",
    "    print(l2+\"    \")\n",
    "    print(l3+\"    \")\n",
    "    print()\n",
    "    \n",
    "THRESHOLD = 0.9"
   ]
  },
  {
   "cell_type": "code",
   "execution_count": 431,
   "id": "03d47e7b",
   "metadata": {},
   "outputs": [],
   "source": [
    "search = arxiv.Search(\n",
    "  query = \"author=Laura Alessandretti\",\n",
    "  max_results = 1000,\n",
    "  sort_by = arxiv.SortCriterion.SubmittedDate\n",
    ")\n",
    "\n",
    "results = [i for i in  search.results() if arxiv.Result.Author('Laura Alessandretti') in i.authors]"
   ]
  },
  {
   "cell_type": "code",
   "execution_count": 432,
   "id": "e8b759c2",
   "metadata": {
    "scrolled": true
   },
   "outputs": [],
   "source": [
    "paper_titles = [paper[\"title\"][0].lower() for n,paper in enumerate(my_papers)]\n",
    "arxiv_titles = [paper.title.lower() for n,paper in enumerate(results)]"
   ]
  },
  {
   "cell_type": "code",
   "execution_count": 433,
   "id": "b611274c",
   "metadata": {},
   "outputs": [],
   "source": [
    "rr = [not any([similar(a,b)>THRESHOLD for a in paper_titles]) for b in arxiv_titles]\n",
    "results = np.array(results)[np.where(rr)[0]]\n"
   ]
  },
  {
   "cell_type": "code",
   "execution_count": 434,
   "id": "fb0c7200",
   "metadata": {},
   "outputs": [
    {
     "name": "stdout",
     "output_type": "stream",
     "text": [
      "**L Alessandretti**, M Szell (2022)    \n",
      "*Urban Mobility*    \n",
      "[Arxiv Preprint](http://arxiv.org/abs/2211.00355v1) 2211.00355v1    \n",
      "\n",
      "R Sahasrabuddhe, R Lambiotte, **L Alessandretti** (2021)    \n",
      "*From centre to centres: polycentric structures in individual mobility*    \n",
      "[Arxiv Preprint](http://arxiv.org/abs/2108.08113v1) 2108.08113v1    \n",
      "\n",
      "U Aslak, **L Alessandretti** (2020)    \n",
      "*Infostop: Scalable stop-location detection in multi-user mobility data*    \n",
      "[Arxiv Preprint](http://arxiv.org/abs/2003.14370v1) 2003.14370v1    \n",
      "\n",
      "**L Alessandretti**, A Baronchelli, Y He (2019)    \n",
      "*Machine Learning meets Number Theory: The Data Science of Birch-Swinnerton-Dyer*    \n",
      "[Arxiv Preprint](http://arxiv.org/abs/1911.02008v1) 1911.02008v1    \n",
      "\n"
     ]
    }
   ],
   "source": [
    "for a in results:\n",
    "    format_arxiv(a)"
   ]
  }
 ],
 "metadata": {
  "kernelspec": {
   "display_name": "Python 3 (ipykernel)",
   "language": "python",
   "name": "python3"
  },
  "language_info": {
   "codemirror_mode": {
    "name": "ipython",
    "version": 3
   },
   "file_extension": ".py",
   "mimetype": "text/x-python",
   "name": "python",
   "nbconvert_exporter": "python",
   "pygments_lexer": "ipython3",
   "version": "3.9.7"
  }
 },
 "nbformat": 4,
 "nbformat_minor": 5
}
